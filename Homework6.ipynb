{
 "cells": [
  {
   "cell_type": "code",
   "execution_count": 31,
   "id": "4246d057",
   "metadata": {},
   "outputs": [
    {
     "data": {
      "text/plain": [
       "(datetime.datetime(2002, 10, 2, 0, 0),\n",
       " datetime.datetime(2013, 10, 11, 0, 0),\n",
       " datetime.datetime(1977, 8, 18, 0, 0))"
      ]
     },
     "execution_count": 31,
     "metadata": {},
     "output_type": "execute_result"
    }
   ],
   "source": [
    "#Задание 1\n",
    "from datetime import datetime as dt\n",
    "\n",
    "The_Moscow_Times = dt.strptime('Wednesday, October 2, 2002', '%A, %B %d, %Y')\n",
    "The_Guardian = dt.strptime('Friday, 11.10.13', '%A, %d.%m.%y')\n",
    "Daily_News = dt.strptime('Thursday, 18 August 1977', '%A, %d %B %Y')\n",
    "\n",
    "The_Moscow_Times, The_Guardian, Daily_News"
   ]
  },
  {
   "cell_type": "code",
   "execution_count": 45,
   "id": "16ab70ac",
   "metadata": {},
   "outputs": [
    {
     "data": {
      "text/plain": [
       "['2022-01-01', '2022-01-02', '2022-01-03']"
      ]
     },
     "execution_count": 45,
     "metadata": {},
     "output_type": "execute_result"
    }
   ],
   "source": [
    "#Задание 2\n",
    "from datetime import datetime as dt\n",
    "from datetime import timedelta as td\n",
    "\n",
    "def date_range(start_date, end_date):\n",
    "    try:\n",
    "        start_date = dt.strptime(start_date, '%Y-%m-%d')\n",
    "        end_date = dt.strptime(end_date, '%Y-%m-%d')\n",
    "        dates = []\n",
    "        current_dt = start_date\n",
    "        if start_date<=end_date:\n",
    "            while current_dt <= end_date:\n",
    "                dates.append(current_dt.strftime('%Y-%m-%d'))\n",
    "                current_dt += td(days=1)\n",
    "            return dates\n",
    "        else:\n",
    "            return []\n",
    "       \n",
    "    except:\n",
    "        return []\n",
    "    \n",
    "date_range('2022-01-01', '2022-01-03')    "
   ]
  },
  {
   "cell_type": "code",
   "execution_count": null,
   "id": "8ed31d8c",
   "metadata": {},
   "outputs": [],
   "source": []
  }
 ],
 "metadata": {
  "kernelspec": {
   "display_name": "Python 3 (ipykernel)",
   "language": "python",
   "name": "python3"
  },
  "language_info": {
   "codemirror_mode": {
    "name": "ipython",
    "version": 3
   },
   "file_extension": ".py",
   "mimetype": "text/x-python",
   "name": "python",
   "nbconvert_exporter": "python",
   "pygments_lexer": "ipython3",
   "version": "3.9.12"
  }
 },
 "nbformat": 4,
 "nbformat_minor": 5
}
