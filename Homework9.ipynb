{
 "cells": [
  {
   "cell_type": "code",
   "execution_count": 13,
   "id": "c059ece4",
   "metadata": {},
   "outputs": [
    {
     "name": "stdout",
     "output_type": "stream",
     "text": [
      "В345ВВ78\n",
      "Номер В345ВВ валиден. Регион: 78\n"
     ]
    }
   ],
   "source": [
    "#задача 1\n",
    "\n",
    "import re\n",
    "\n",
    "car_number = input()\n",
    "\n",
    "if re.match(r'[АВЕКМНОРСТУХ]\\d{3}[АВЕКМНОРСТУХ]{2}\\d{2,3}', car_number):\n",
    "    print(f\"Номер {car_number[0:6]} валиден. Регион: {car_number[6:9]}\")\n",
    "else:\n",
    "    print(\"Номер не валиден\")"
   ]
  },
  {
   "cell_type": "code",
   "execution_count": 19,
   "id": "12bdd658",
   "metadata": {},
   "outputs": [
    {
     "name": "stdout",
     "output_type": "stream",
     "text": [
      "Напишите функцию функцию, которая будет будет будет будет удалять все все все все последовательные повторы слов из из из из заданной строки строки при помощи регулярных выражений\n",
      "Напишите функцию, которая будет удалять все последовательные повторы слов из заданной строки при помощи регулярных выражений\n"
     ]
    }
   ],
   "source": [
    "#задача 2\n",
    "import re\n",
    "\n",
    "phrase = input()\n",
    "pattern = r'(\\w+)(\\s+\\1)+'\n",
    "print(re.sub(pattern, r'\\1', phrase))"
   ]
  },
  {
   "cell_type": "code",
   "execution_count": null,
   "id": "deb13852",
   "metadata": {},
   "outputs": [],
   "source": []
  }
 ],
 "metadata": {
  "kernelspec": {
   "display_name": "Python 3 (ipykernel)",
   "language": "python",
   "name": "python3"
  },
  "language_info": {
   "codemirror_mode": {
    "name": "ipython",
    "version": 3
   },
   "file_extension": ".py",
   "mimetype": "text/x-python",
   "name": "python",
   "nbconvert_exporter": "python",
   "pygments_lexer": "ipython3",
   "version": "3.9.12"
  }
 },
 "nbformat": 4,
 "nbformat_minor": 5
}
