{
 "cells": [
  {
   "cell_type": "code",
   "execution_count": 3,
   "id": "db625d30",
   "metadata": {},
   "outputs": [
    {
     "name": "stdout",
     "output_type": "stream",
     "text": [
      "Введите год для проверки: 1904\n",
      "Високосный год\n"
     ]
    }
   ],
   "source": [
    "#задание 1\n",
    "year = int(input(\"Введите год для проверки: \"))\n",
    "if year%4==0 and year%100!=0 or year%400==0:\n",
    "    print(\"Високосный год\")\n",
    "else:\n",
    "    print(\"Обычный год\")"
   ]
  },
  {
   "cell_type": "code",
   "execution_count": 6,
   "id": "3406b3c9",
   "metadata": {},
   "outputs": [
    {
     "name": "stdout",
     "output_type": "stream",
     "text": [
      "123321\n",
      "Счастливый билет\n"
     ]
    }
   ],
   "source": [
    "#задание 2\n",
    "ticket = input()\n",
    "left_numbers = int(ticket[0]) + int(ticket[1]) + int(ticket[2])\n",
    "right_numbers = int(ticket[3]) + int(ticket[4]) + int(ticket[5])\n",
    "if left_numbers == right_numbers:\n",
    "    print(\"Счастливый билет\")\n",
    "else:\n",
    "    print(\"Несчастливый билет\")"
   ]
  }
 ],
 "metadata": {
  "kernelspec": {
   "display_name": "Python 3 (ipykernel)",
   "language": "python",
   "name": "python3"
  },
  "language_info": {
   "codemirror_mode": {
    "name": "ipython",
    "version": 3
   },
   "file_extension": ".py",
   "mimetype": "text/x-python",
   "name": "python",
   "nbconvert_exporter": "python",
   "pygments_lexer": "ipython3",
   "version": "3.9.12"
  }
 },
 "nbformat": 4,
 "nbformat_minor": 5
}
