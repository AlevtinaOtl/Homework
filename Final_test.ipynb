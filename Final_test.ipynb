{
 "cells": [
  {
   "cell_type": "code",
   "execution_count": 19,
   "id": "c3fbc778",
   "metadata": {},
   "outputs": [
    {
     "name": "stdout",
     "output_type": "stream",
     "text": [
      "{'yandex': {'revenue': 179, 'cost': 153, 'ROI': 16.99}, 'vk': {'revenue': 103, 'cost': 98, 'ROI': 5.1}, 'adwords': {'revenue': 35, 'cost': 34, 'ROI': 2.94}, 'facebook': {'revenue': 103, 'cost': 110, 'ROI': -6.36}, 'twitter': {'revenue': 11, 'cost': 24, 'ROI': -54.17}}\n"
     ]
    }
   ],
   "source": [
    "#задание 1\n",
    "\n",
    "results = {\n",
    "        'vk': {'revenue': 103, 'cost': 98},\n",
    "        'yandex': {'revenue': 179, 'cost': 153},\n",
    "        'facebook': {'revenue': 103, 'cost': 110},\n",
    "        'adwords': {'revenue': 35, 'cost': 34},\n",
    "        'twitter': {'revenue': 11, 'cost': 24},\n",
    "    }\n",
    "    \n",
    "\n",
    "for result in results:\n",
    "    if 'revenue' in results[result].keys() and 'cost' in results[result].keys():\n",
    "        results[result]['ROI'] = round((results[result]['revenue'] / results[result]['cost'] - 1) * 100, 2)\n",
    "    else:\n",
    "        print(\"Что-то пошло не так, попробуйте ещё раз\")\n",
    "        \n",
    "\n",
    "print(dict(sorted(results.items(), key = lambda res: res[1][\"ROI\"], reverse=True)))"
   ]
  },
  {
   "cell_type": "code",
   "execution_count": 22,
   "id": "918b6ac8",
   "metadata": {},
   "outputs": [
    {
     "data": {
      "text/plain": [
       "['True', 'False', 'False']"
      ]
     },
     "execution_count": 22,
     "metadata": {},
     "output_type": "execute_result"
    }
   ],
   "source": [
    "#задание 2\n",
    "\n",
    "from datetime import datetime\n",
    "\n",
    "stream = ['2018-04-02', '2018-02-29', '2018-19-02']\n",
    "\n",
    "def dates_check(dates):\n",
    "    checked_dates = []\n",
    "    for date in dates:\n",
    "        try:\n",
    "            datetime.strptime(date, '%Y-%m-%d')\n",
    "            checked_dates.append(\"True\")\n",
    "        except ValueError:\n",
    "            checked_dates.append(\"False\")\n",
    "    return checked_dates\n",
    "\n",
    "        \n",
    "dates_check(stream)"
   ]
  },
  {
   "cell_type": "code",
   "execution_count": 21,
   "id": "cca108d5",
   "metadata": {},
   "outputs": [
    {
     "name": "stdout",
     "output_type": "stream",
     "text": [
      "8(955)555-55-55\n",
      "+7-955-555-55-55\n"
     ]
    }
   ],
   "source": [
    "#задание 3\n",
    "\n",
    "import re\n",
    "\n",
    "phone_number = input()\n",
    "if re.match(r'^(\\+7|7|8)?[\\s\\-]?\\(?[489][0-9]{2}\\)?[\\s\\-]?[0-9]{3}[\\s\\-]?[0-9]{2}[\\s\\-]?[0-9]{2}$', phone_number):\n",
    "    #print(re.sub(r\"(\\+7|7|8)?)(.{3})(.{3})(.{2})(.{2})$\", r\"+7-\\2-\\3-\\4-\\5\", phone_number))\n",
    "    updated_phone_number = list(filter(str.isdigit, phone_number))[1:]\n",
    "    print(\"+7-{}{}{}-{}{}{}-{}{}-{}{}\".format(*updated_phone_number))\n",
    "else:\n",
    "    print(\"Номер не валиден\")"
   ]
  },
  {
   "cell_type": "code",
   "execution_count": null,
   "id": "b5c6d605",
   "metadata": {},
   "outputs": [],
   "source": []
  }
 ],
 "metadata": {
  "kernelspec": {
   "display_name": "Python 3 (ipykernel)",
   "language": "python",
   "name": "python3"
  },
  "language_info": {
   "codemirror_mode": {
    "name": "ipython",
    "version": 3
   },
   "file_extension": ".py",
   "mimetype": "text/x-python",
   "name": "python",
   "nbconvert_exporter": "python",
   "pygments_lexer": "ipython3",
   "version": "3.9.12"
  }
 },
 "nbformat": 4,
 "nbformat_minor": 5
}
