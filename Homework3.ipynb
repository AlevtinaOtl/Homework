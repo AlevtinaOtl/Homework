{
 "cells": [
  {
   "cell_type": "code",
   "execution_count": 2,
   "id": "81f29c31",
   "metadata": {},
   "outputs": [
    {
     "name": "stdout",
     "output_type": "stream",
     "text": [
      "Результат: [213, 15, 54, 119, 98, 35]\n"
     ]
    }
   ],
   "source": [
    "# задание 1\n",
    "\n",
    "unique_ids = []\n",
    "ids = {'user1': [213, 213, 213, 15, 213], \n",
    "       'user2': [54, 54, 119, 119, 119], \n",
    "       'user3': [213, 98, 98, 35]}\n",
    "\n",
    "for values in ids.values():\n",
    "    for value in values:\n",
    "        if value not in unique_ids:\n",
    "            unique_ids.append(value)\n",
    "print(\"Результат: \" + str(unique_ids))"
   ]
  },
  {
   "cell_type": "code",
   "execution_count": 3,
   "id": "28b887d4",
   "metadata": {},
   "outputs": [
    {
     "name": "stdout",
     "output_type": "stream",
     "text": [
      "Поисковых запросов, содержащих 3 слов(а): 57.14 %\n",
      "Поисковых запросов, содержащих 2 слов(а): 42.86 %\n"
     ]
    }
   ],
   "source": [
    "# задание 2\n",
    "\n",
    "queries = [\n",
    "    'смотреть сериалы онлайн',\n",
    "    'новости спорта',\n",
    "    'афиша кино',\n",
    "    'курс доллара',\n",
    "    'сериалы этим летом',\n",
    "    'курс по питону',\n",
    "    'сериалы про спорт',\n",
    "]\n",
    "\n",
    "slovar = {}\n",
    "for i in queries:\n",
    "    if len(i.split(' ')) in slovar.keys():\n",
    "        slovar[len(i.split(' '))] += 1\n",
    "    else:\n",
    "        slovar[len(i.split(' '))] = 1\n",
    "\n",
    "for key in slovar.keys():\n",
    "    print(f\"Поисковых запросов, содержащих {key} слов(а): {round(slovar.get(key) / len(queries) * 100, 2)} %\")"
   ]
  },
  {
   "cell_type": "code",
   "execution_count": null,
   "id": "762ea2ac",
   "metadata": {},
   "outputs": [],
   "source": []
  }
 ],
 "metadata": {
  "kernelspec": {
   "display_name": "Python 3 (ipykernel)",
   "language": "python",
   "name": "python3"
  },
  "language_info": {
   "codemirror_mode": {
    "name": "ipython",
    "version": 3
   },
   "file_extension": ".py",
   "mimetype": "text/x-python",
   "name": "python",
   "nbconvert_exporter": "python",
   "pygments_lexer": "ipython3",
   "version": "3.9.12"
  }
 },
 "nbformat": 4,
 "nbformat_minor": 5
}
