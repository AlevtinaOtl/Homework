{
 "cells": [
  {
   "cell_type": "code",
   "execution_count": null,
   "id": "cf6b6f47",
   "metadata": {},
   "outputs": [],
   "source": [
    "# задание 1\n",
    "word = input(\"Введите слово: \")\n",
    "middle = len(word)//2\n",
    "if len(word) % 2 == 0:\n",
    "    print(word[middle-1]+word[middle])\n",
    "else:\n",
    "    print(word[middle])"
   ]
  },
  {
   "cell_type": "code",
   "execution_count": null,
   "id": "8245a4c6",
   "metadata": {},
   "outputs": [],
   "source": [
    "# задание 2\n",
    "boys = input(\"Введите имена парней: \").split(\", \")\n",
    "girls = input(\"Введите имена девушек: \").split(\", \")\n",
    "\n",
    "if len(boys) == len(girls):\n",
    "    print(\"Идеальные пары:\")\n",
    "    for i in range(len(boys)):\n",
    "        print(boys[i] + \" и \" + girls[i])\n",
    "else:\n",
    "    print(\"Внимание, кто-то может остаться без пары!\")"
   ]
  },
  {
   "cell_type": "code",
   "execution_count": null,
   "id": "318f9798",
   "metadata": {},
   "outputs": [],
   "source": []
  }
 ],
 "metadata": {
  "kernelspec": {
   "display_name": "Python 3 (ipykernel)",
   "language": "python",
   "name": "python3"
  },
  "language_info": {
   "codemirror_mode": {
    "name": "ipython",
    "version": 3
   },
   "file_extension": ".py",
   "mimetype": "text/x-python",
   "name": "python",
   "nbconvert_exporter": "python",
   "pygments_lexer": "ipython3",
   "version": "3.9.12"
  }
 },
 "nbformat": 4,
 "nbformat_minor": 5
}
