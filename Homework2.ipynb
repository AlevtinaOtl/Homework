{
 "cells": [
  {
   "cell_type": "code",
   "execution_count": 8,
   "id": "b9838103",
   "metadata": {},
   "outputs": [
    {
     "name": "stdout",
     "output_type": "stream",
     "text": [
      "Введите слово: test\n",
      "es\n"
     ]
    }
   ],
   "source": [
    "# задание 1\n",
    "word = input(\"Введите слово: \")\n",
    "middle = len(word)//2\n",
    "if len(word) % 2 == 0:\n",
    "    print(word[middle-1]+word[middle])\n",
    "else:\n",
    "    print(word[middle])"
   ]
  },
  {
   "cell_type": "code",
   "execution_count": 16,
   "id": "377f263c",
   "metadata": {},
   "outputs": [
    {
     "name": "stdout",
     "output_type": "stream",
     "text": [
      "Введите имена парней: Вася, Коля, Дима\n",
      "Введите имена девушек: Алла, Аля, Ася\n",
      "Идеальные пары:\n",
      "Вася и Алла\n",
      "Коля и Аля\n",
      "Дима и Ася\n"
     ]
    }
   ],
   "source": [
    "# задание 2\n",
    "boys = input(\"Введите имена парней: \").split(\", \")\n",
    "girls = input(\"Введите имена девушек: \").split(\", \")\n",
    "\n",
    "if len(boys) == len(girls):\n",
    "    print(\"Идеальные пары:\")\n",
    "    for i in range(len(boys)):\n",
    "        print(boys[i] + \" и \" + girls[i])\n",
    "else:\n",
    "    print(\"Внимание, кто-то может остаться без пары!\")"
   ]
  },
  {
   "cell_type": "code",
   "execution_count": null,
   "id": "14e860b7",
   "metadata": {},
   "outputs": [],
   "source": []
  }
 ],
 "metadata": {
  "kernelspec": {
   "display_name": "Python 3 (ipykernel)",
   "language": "python",
   "name": "python3"
  },
  "language_info": {
   "codemirror_mode": {
    "name": "ipython",
    "version": 3
   },
   "file_extension": ".py",
   "mimetype": "text/x-python",
   "name": "python",
   "nbconvert_exporter": "python",
   "pygments_lexer": "ipython3",
   "version": "3.9.12"
  }
 },
 "nbformat": 4,
 "nbformat_minor": 5
}
