{
 "cells": [
  {
   "cell_type": "code",
   "execution_count": null,
   "id": "c9e98053",
   "metadata": {},
   "outputs": [],
   "source": [
    "documents = [\n",
    " {'type': 'passport', 'number': '2207 876234', 'name': 'Василий Гупкин'},\n",
    " {'type': 'invoice', 'number': '11-2', 'name': 'Геннадий Покемонов'},\n",
    " {'type': 'insurance', 'number': '10006', 'name': 'Аристарх Павлов'}\n",
    "]\n",
    "\n",
    "directories = {\n",
    " '1': ['2207 876234', '11-2'],\n",
    " '2': ['10006'],\n",
    " '3': []\n",
    "}\n",
    "\n",
    "def beginning():\n",
    "    '''\n",
    "    Функция принимает на вход команду, как нужно обработать данные\n",
    "    '''\n",
    "    while True:\n",
    "        action = input(\"Введите команду: \")\n",
    "        if action == \"p\":\n",
    "            document_number = input(\"Введите номер документа: \")\n",
    "            print(persona_name(document_number))\n",
    "        elif action == \"s\":\n",
    "            document_number = input(\"Введите номер документа: \")\n",
    "            print(shelf_number(document_number))\n",
    "        elif action == \"q\":\n",
    "            break\n",
    "        else:\n",
    "            print(\"Такой команды нет!\")\n",
    "        \n",
    "def persona_name(doc_num):\n",
    "    '''\n",
    "    Функция по номеру документа определяет имя владельца\n",
    "    '''\n",
    "    for value in documents:\n",
    "        if value['number'] == doc_num:\n",
    "            return(f\"Владелец документа: {value['name']}\")\n",
    "    return(\"Владелец не найден\")\n",
    "    \n",
    "    \n",
    "def shelf_number(doc_num):\n",
    "    '''\n",
    "    Функция по номеру документа определяет номер полки, где они хранятся\n",
    "    '''\n",
    "    for key, value in directories.items():\n",
    "        if doc_num in value:\n",
    "            return(f\"Документ хранится на полке: {key}\")\n",
    "    return(\"Документ не найден\")\n",
    "        \n",
    "        \n",
    "beginning()"
   ]
  },
  {
   "cell_type": "code",
   "execution_count": null,
   "id": "b14a60d0",
   "metadata": {},
   "outputs": [],
   "source": []
  }
 ],
 "metadata": {
  "kernelspec": {
   "display_name": "Python 3 (ipykernel)",
   "language": "python",
   "name": "python3"
  },
  "language_info": {
   "codemirror_mode": {
    "name": "ipython",
    "version": 3
   },
   "file_extension": ".py",
   "mimetype": "text/x-python",
   "name": "python",
   "nbconvert_exporter": "python",
   "pygments_lexer": "ipython3",
   "version": "3.9.12"
  }
 },
 "nbformat": 4,
 "nbformat_minor": 5
}
